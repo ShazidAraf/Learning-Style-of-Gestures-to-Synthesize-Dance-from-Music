{
 "cells": [
  {
   "cell_type": "code",
   "execution_count": 1,
   "metadata": {},
   "outputs": [],
   "source": [
    "import math\n",
    "import cv2\n",
    "import matplotlib.cm\n",
    "import numpy as np\n",
    "from pathlib import Path\n",
    "import os\n",
    "import pickle\n",
    "import copy\n",
    "import scipy, matplotlib.pyplot as plt, IPython.display as ipd\n",
    "# import librosa, librosa.display\n",
    "from scipy.io import wavfile\n",
    "import sys\n",
    "import json\n",
    "from tqdm import tqdm"
   ]
  },
  {
   "cell_type": "code",
   "execution_count": 2,
   "metadata": {},
   "outputs": [
    {
     "ename": "ModuleNotFoundError",
     "evalue": "No module named 'helper'",
     "output_type": "error",
     "traceback": [
      "\u001b[0;31m---------------------------------------------------------------------------\u001b[0m",
      "\u001b[0;31mModuleNotFoundError\u001b[0m                       Traceback (most recent call last)",
      "\u001b[0;32m<ipython-input-2-6a518767b16d>\u001b[0m in \u001b[0;36m<module>\u001b[0;34m()\u001b[0m\n\u001b[1;32m      1\u001b[0m \u001b[0;32mfrom\u001b[0m \u001b[0maudio_utils\u001b[0m \u001b[0;32mimport\u001b[0m \u001b[0m_get_stft_spectogram\u001b[0m\u001b[0;34m\u001b[0m\u001b[0m\n\u001b[0;32m----> 2\u001b[0;31m \u001b[0;32mfrom\u001b[0m \u001b[0mhelper\u001b[0m\u001b[0;34m.\u001b[0m\u001b[0mutils\u001b[0m \u001b[0;32mimport\u001b[0m \u001b[0mcreate_label_bw\u001b[0m\u001b[0;34m,\u001b[0m \u001b[0mcreate_label\u001b[0m\u001b[0;34m,\u001b[0m \u001b[0mimage_to_video\u001b[0m\u001b[0;34m\u001b[0m\u001b[0m\n\u001b[0m\u001b[1;32m      3\u001b[0m \u001b[0;32mfrom\u001b[0m \u001b[0mpost_processing\u001b[0m \u001b[0;32mimport\u001b[0m \u001b[0mchinese_cords_transformation\u001b[0m\u001b[0;34m,\u001b[0m\u001b[0mshifting_scaling\u001b[0m\u001b[0;34m,\u001b[0m\u001b[0mconv_cord\u001b[0m\u001b[0;34m,\u001b[0m\u001b[0mpose_correction\u001b[0m\u001b[0;34m\u001b[0m\u001b[0m\n",
      "\u001b[0;31mModuleNotFoundError\u001b[0m: No module named 'helper'"
     ]
    }
   ],
   "source": [
    "from audio_utils import _get_stft_spectogram\n",
    "from helper.utils import create_label_bw, create_label, image_to_video\n",
    "from post_processing import chinese_cords_transformation,shifting_scaling,conv_cord,pose_correction"
   ]
  },
  {
   "cell_type": "code",
   "execution_count": 5,
   "metadata": {},
   "outputs": [
    {
     "name": "stderr",
     "output_type": "stream",
     "text": [
      "\r",
      "  0%|          | 0/8 [00:00<?, ?it/s]"
     ]
    },
    {
     "name": "stdout",
     "output_type": "stream",
     "text": [
      "saving processed json for video:1\n"
     ]
    },
    {
     "name": "stderr",
     "output_type": "stream",
     "text": [
      "\r",
      " 12%|█▎        | 1/8 [00:14<01:38, 14.02s/it]"
     ]
    },
    {
     "name": "stdout",
     "output_type": "stream",
     "text": [
      "saving processed json for video:2\n"
     ]
    },
    {
     "name": "stderr",
     "output_type": "stream",
     "text": [
      "\r",
      " 25%|██▌       | 2/8 [00:42<01:50, 18.45s/it]"
     ]
    },
    {
     "name": "stdout",
     "output_type": "stream",
     "text": [
      "saving processed json for video:3\n"
     ]
    },
    {
     "name": "stderr",
     "output_type": "stream",
     "text": [
      "\r",
      " 38%|███▊      | 3/8 [00:54<01:22, 16.56s/it]"
     ]
    },
    {
     "name": "stdout",
     "output_type": "stream",
     "text": [
      "saving processed json for video:4\n"
     ]
    },
    {
     "name": "stderr",
     "output_type": "stream",
     "text": [
      "\r",
      " 50%|█████     | 4/8 [01:08<01:03, 15.76s/it]"
     ]
    },
    {
     "name": "stdout",
     "output_type": "stream",
     "text": [
      "saving processed json for video:5\n"
     ]
    },
    {
     "name": "stderr",
     "output_type": "stream",
     "text": [
      "\r",
      " 62%|██████▎   | 5/8 [01:43<01:04, 21.50s/it]"
     ]
    },
    {
     "name": "stdout",
     "output_type": "stream",
     "text": [
      "saving processed json for video:6\n"
     ]
    },
    {
     "name": "stderr",
     "output_type": "stream",
     "text": [
      "\r",
      " 75%|███████▌  | 6/8 [01:57<00:38, 19.05s/it]"
     ]
    },
    {
     "name": "stdout",
     "output_type": "stream",
     "text": [
      "saving processed json for video:7\n"
     ]
    },
    {
     "name": "stderr",
     "output_type": "stream",
     "text": [
      "\r",
      " 88%|████████▊ | 7/8 [02:11<00:17, 17.80s/it]"
     ]
    },
    {
     "name": "stdout",
     "output_type": "stream",
     "text": [
      "saving processed json for video:8\n"
     ]
    },
    {
     "name": "stderr",
     "output_type": "stream",
     "text": [
      "100%|██████████| 8/8 [02:21<00:00, 17.63s/it]\n"
     ]
    }
   ],
   "source": [
    "video_index = 0\n",
    "\n",
    "for audio_file in tqdm(os.listdir('data/audio/DANCE_C')):\n",
    "    \n",
    "    \n",
    "    video_index +=1\n",
    "    \n",
    "\n",
    "    name = audio_file[0:-4]\n",
    "    audio,sr = librosa.load('data/audio/DANCE_C/'+audio_file,sr =48000)\n",
    "    cd1 = np.load('data/motion_feature/'+name+'.npy')[:,:,0:2]\n",
    "    \n",
    "    \n",
    "    fps = 25\n",
    "    time_step = 1/fps\n",
    "    sample_per_frame = int(time_step*sr)\n",
    "\n",
    "    pose_result = []\n",
    "    for index in range(cd1.shape[0]):\n",
    "\n",
    "        audio_sample = audio[index*sample_per_frame:(index+1)*sample_per_frame]\n",
    "        x = _get_stft_spectogram(audio_sample, sr)\n",
    "        \n",
    "#         print(np.array(x).shape)\n",
    "\n",
    "\n",
    "        pose_points =  chinese_cords_transformation(cd1[index]) \n",
    "\n",
    "        pose_result.append({\n",
    "                            'pose_points':np.squeeze(pose_points.reshape((-1,1)),1).tolist(),\n",
    "                            'audio_spec':x\n",
    "                        })\n",
    "        \n",
    "        \n",
    "    \n",
    "      \n",
    "    sys.stdout.write(\"saving processed json for video:{0}\\n\".format(video_index))\n",
    "    with open('data/processed_30fps/video_{0}_preprocessed.json'.format(video_index), 'w') as outfile:\n",
    "        json.dump({'preprocessed':pose_result}, outfile)\n",
    "        "
   ]
  },
  {
   "cell_type": "code",
   "execution_count": null,
   "metadata": {},
   "outputs": [],
   "source": []
  }
 ],
 "metadata": {
  "kernelspec": {
   "display_name": "Python 3",
   "language": "python",
   "name": "python3"
  },
  "language_info": {
   "codemirror_mode": {
    "name": "ipython",
    "version": 3
   },
   "file_extension": ".py",
   "mimetype": "text/x-python",
   "name": "python",
   "nbconvert_exporter": "python",
   "pygments_lexer": "ipython3",
   "version": "3.6.5"
  }
 },
 "nbformat": 4,
 "nbformat_minor": 2
}
