{
 "cells": [
  {
   "cell_type": "code",
   "execution_count": 22,
   "metadata": {},
   "outputs": [
    {
     "name": "stdout",
     "output_type": "stream",
     "text": [
      "bundle_000084000_000085000.json bundle_000000000_000001000.json\n",
      "bundle_000085000_000086000.json bundle_000001000_000002000.json\n",
      "bundle_000086000_000087000.json bundle_000002000_000003000.json\n",
      "bundle_000087000_000088000.json bundle_000003000_000004000.json\n",
      "bundle_000088000_000089000.json bundle_000004000_000005000.json\n",
      "bundle_000089000_000090000.json bundle_000005000_000006000.json\n",
      "bundle_000090000_000091000.json bundle_000006000_000007000.json\n",
      "bundle_000091000_000092000.json bundle_000007000_000008000.json\n",
      "bundle_000092000_000093000.json bundle_000008000_000009000.json\n",
      "bundle_000093000_000094000.json bundle_000009000_000010000.json\n",
      "bundle_000094000_000095000.json bundle_000010000_000011000.json\n",
      "bundle_000095000_000096000.json bundle_000011000_000012000.json\n"
     ]
    }
   ],
   "source": [
    "import json\n",
    "import numpy as np\n",
    "import os\n",
    "\n",
    "f = [f for f in os.listdir('data/test') if f.endswith('.json')]\n",
    "\n",
    "start = 84\n",
    "i = 0\n",
    "bundle_len = 1000\n",
    "\n",
    "for i in range(len(f)):\n",
    "    \n",
    "    n2 = 'bundle_{0:09d}_{1:09d}.json'.format(i*bundle_len,i*bundle_len+bundle_len)\n",
    "    n1 = 'bundle_{0:09d}_{1:09d}.json'.format((start+i)*bundle_len,(start+i)*bundle_len+bundle_len)\n",
    "    print(n1,n2)\n",
    "    os.rename('data/test/'+n1,'data/test/'+n2)"
   ]
  },
  {
   "cell_type": "code",
   "execution_count": 21,
   "metadata": {},
   "outputs": [
    {
     "name": "stdout",
     "output_type": "stream",
     "text": [
      "bundle_000070000_000071000.json bundle_000000000_000001000.json\n",
      "bundle_000071000_000072000.json bundle_000001000_000002000.json\n",
      "bundle_000072000_000073000.json bundle_000002000_000003000.json\n",
      "bundle_000073000_000074000.json bundle_000003000_000004000.json\n",
      "bundle_000074000_000075000.json bundle_000004000_000005000.json\n",
      "bundle_000075000_000076000.json bundle_000005000_000006000.json\n",
      "bundle_000076000_000077000.json bundle_000006000_000007000.json\n",
      "bundle_000077000_000078000.json bundle_000007000_000008000.json\n",
      "bundle_000078000_000079000.json bundle_000008000_000009000.json\n",
      "bundle_000079000_000080000.json bundle_000009000_000010000.json\n",
      "bundle_000080000_000081000.json bundle_000010000_000011000.json\n",
      "bundle_000081000_000082000.json bundle_000011000_000012000.json\n",
      "bundle_000082000_000083000.json bundle_000012000_000013000.json\n",
      "bundle_000083000_000084000.json bundle_000013000_000014000.json\n"
     ]
    }
   ],
   "source": []
  },
  {
   "cell_type": "code",
   "execution_count": null,
   "metadata": {},
   "outputs": [],
   "source": [
    "import json\n",
    "import numpy as np\n",
    "import os\n",
    "\n",
    "f = [f for f in os.listdir('data/valid') if f.endswith('.json')]\n",
    "\n",
    "start = 70\n",
    "i = 0\n",
    "bundle_len = 1000\n",
    "\n",
    "for i in range(len(f)):\n",
    "    \n",
    "    n2 = 'bundle_{0:09d}_{1:09d}.json'.format(i*bundle_len,i*bundle_len+bundle_len)\n",
    "    n1 = 'bundle_{0:09d}_{1:09d}.json'.format((start+i)*bundle_len,(start+i)*bundle_len+bundle_len)\n",
    "    print(n1,n2)\n",
    "    os.rename('data/valid/'+n1,'data/valid/'+n2)"
   ]
  }
 ],
 "metadata": {
  "kernelspec": {
   "display_name": "Python 3",
   "language": "python",
   "name": "python3"
  },
  "language_info": {
   "codemirror_mode": {
    "name": "ipython",
    "version": 3
   },
   "file_extension": ".py",
   "mimetype": "text/x-python",
   "name": "python",
   "nbconvert_exporter": "python",
   "pygments_lexer": "ipython3",
   "version": "3.6.6"
  }
 },
 "nbformat": 4,
 "nbformat_minor": 2
}
